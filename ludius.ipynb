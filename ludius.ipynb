{
 "cells": [
  {
   "cell_type": "code",
   "execution_count": 1,
   "source": [
    "import numpy as np\r\n",
    "import pandas as pd"
   ],
   "outputs": [],
   "metadata": {}
  },
  {
   "cell_type": "code",
   "execution_count": 2,
   "source": [
    "#df.to_hdf('data.h5', key='df', mode='w')"
   ],
   "outputs": [],
   "metadata": {}
  },
  {
   "cell_type": "code",
   "execution_count": 3,
   "source": [
    "df = pd.read_hdf('data/data.h5')\r\n",
    "config = pd.read_hdf('data/config.h5')"
   ],
   "outputs": [],
   "metadata": {}
  },
  {
   "cell_type": "code",
   "execution_count": 4,
   "source": [
    "df.head()"
   ],
   "outputs": [
    {
     "output_type": "execute_result",
     "data": {
      "text/html": [
       "<div>\n",
       "<style scoped>\n",
       "    .dataframe tbody tr th:only-of-type {\n",
       "        vertical-align: middle;\n",
       "    }\n",
       "\n",
       "    .dataframe tbody tr th {\n",
       "        vertical-align: top;\n",
       "    }\n",
       "\n",
       "    .dataframe thead th {\n",
       "        text-align: right;\n",
       "    }\n",
       "</style>\n",
       "<table border=\"1\" class=\"dataframe\">\n",
       "  <thead>\n",
       "    <tr style=\"text-align: right;\">\n",
       "      <th></th>\n",
       "      <th>id</th>\n",
       "      <th>board</th>\n",
       "      <th>score</th>\n",
       "      <th>mvt</th>\n",
       "      <th>action</th>\n",
       "      <th>depth</th>\n",
       "      <th>width</th>\n",
       "      <th>player</th>\n",
       "      <th>step</th>\n",
       "      <th>winner</th>\n",
       "      <th>parent</th>\n",
       "    </tr>\n",
       "  </thead>\n",
       "  <tbody>\n",
       "    <tr>\n",
       "      <th>0</th>\n",
       "      <td>D0-W0-P0-S0</td>\n",
       "      <td>[[None, None, None, None, None], [None, None, ...</td>\n",
       "      <td>(0, 0)</td>\n",
       "      <td>[(0, 0), (0, 1), (0, 2), (0, 3), (0, 4), (1, 0...</td>\n",
       "      <td>(0, 0)</td>\n",
       "      <td>0</td>\n",
       "      <td>0</td>\n",
       "      <td>0</td>\n",
       "      <td>0</td>\n",
       "      <td>-1</td>\n",
       "      <td>None</td>\n",
       "    </tr>\n",
       "    <tr>\n",
       "      <th>1</th>\n",
       "      <td>D1-W0-P0-S0</td>\n",
       "      <td>[[black, None, None, None, None], [None, None,...</td>\n",
       "      <td>(0, 0)</td>\n",
       "      <td>[(0, 1), (0, 2), (0, 3), (0, 4), (1, 0), (1, 1...</td>\n",
       "      <td>(0, 1)</td>\n",
       "      <td>1</td>\n",
       "      <td>0</td>\n",
       "      <td>0</td>\n",
       "      <td>0</td>\n",
       "      <td>-1</td>\n",
       "      <td>D0-W0-P0-S0</td>\n",
       "    </tr>\n",
       "    <tr>\n",
       "      <th>2</th>\n",
       "      <td>D2-W0-P1-S0</td>\n",
       "      <td>[[black, black, None, None, None], [None, None...</td>\n",
       "      <td>(0, 0)</td>\n",
       "      <td>[(0, 2), (0, 3), (0, 4), (1, 0), (1, 1), (1, 2...</td>\n",
       "      <td>(0, 2)</td>\n",
       "      <td>2</td>\n",
       "      <td>0</td>\n",
       "      <td>1</td>\n",
       "      <td>0</td>\n",
       "      <td>-1</td>\n",
       "      <td>D1-W0-P0-S0</td>\n",
       "    </tr>\n",
       "    <tr>\n",
       "      <th>3</th>\n",
       "      <td>D3-W0-P1-S0</td>\n",
       "      <td>[[black, black, white, None, None], [None, Non...</td>\n",
       "      <td>(0, 0)</td>\n",
       "      <td>[(0, 3), (0, 4), (1, 0), (1, 1), (1, 2), (1, 3...</td>\n",
       "      <td>(0, 3)</td>\n",
       "      <td>3</td>\n",
       "      <td>0</td>\n",
       "      <td>1</td>\n",
       "      <td>0</td>\n",
       "      <td>-1</td>\n",
       "      <td>D2-W0-P1-S0</td>\n",
       "    </tr>\n",
       "    <tr>\n",
       "      <th>4</th>\n",
       "      <td>D4-W0-P0-S0</td>\n",
       "      <td>[[black, black, white, white, None], [None, No...</td>\n",
       "      <td>(0, 0)</td>\n",
       "      <td>[(0, 4), (1, 0), (1, 1), (1, 2), (1, 3), (1, 4...</td>\n",
       "      <td>(0, 4)</td>\n",
       "      <td>4</td>\n",
       "      <td>0</td>\n",
       "      <td>0</td>\n",
       "      <td>0</td>\n",
       "      <td>-1</td>\n",
       "      <td>D3-W0-P1-S0</td>\n",
       "    </tr>\n",
       "  </tbody>\n",
       "</table>\n",
       "</div>"
      ],
      "text/plain": [
       "            id                                              board   score  \\\n",
       "0  D0-W0-P0-S0  [[None, None, None, None, None], [None, None, ...  (0, 0)   \n",
       "1  D1-W0-P0-S0  [[black, None, None, None, None], [None, None,...  (0, 0)   \n",
       "2  D2-W0-P1-S0  [[black, black, None, None, None], [None, None...  (0, 0)   \n",
       "3  D3-W0-P1-S0  [[black, black, white, None, None], [None, Non...  (0, 0)   \n",
       "4  D4-W0-P0-S0  [[black, black, white, white, None], [None, No...  (0, 0)   \n",
       "\n",
       "                                                 mvt  action depth width  \\\n",
       "0  [(0, 0), (0, 1), (0, 2), (0, 3), (0, 4), (1, 0...  (0, 0)     0     0   \n",
       "1  [(0, 1), (0, 2), (0, 3), (0, 4), (1, 0), (1, 1...  (0, 1)     1     0   \n",
       "2  [(0, 2), (0, 3), (0, 4), (1, 0), (1, 1), (1, 2...  (0, 2)     2     0   \n",
       "3  [(0, 3), (0, 4), (1, 0), (1, 1), (1, 2), (1, 3...  (0, 3)     3     0   \n",
       "4  [(0, 4), (1, 0), (1, 1), (1, 2), (1, 3), (1, 4...  (0, 4)     4     0   \n",
       "\n",
       "  player step winner       parent  \n",
       "0      0    0     -1         None  \n",
       "1      0    0     -1  D0-W0-P0-S0  \n",
       "2      1    0     -1  D1-W0-P0-S0  \n",
       "3      1    0     -1  D2-W0-P1-S0  \n",
       "4      0    0     -1  D3-W0-P1-S0  "
      ]
     },
     "metadata": {},
     "execution_count": 4
    }
   ],
   "metadata": {}
  },
  {
   "cell_type": "code",
   "execution_count": 5,
   "source": [
    "df.board.shape"
   ],
   "outputs": [
    {
     "output_type": "execute_result",
     "data": {
      "text/plain": [
       "(174,)"
      ]
     },
     "metadata": {},
     "execution_count": 5
    }
   ],
   "metadata": {}
  },
  {
   "cell_type": "code",
   "execution_count": 45,
   "source": [
    "b = df.board[1]\r\n",
    "b"
   ],
   "outputs": [
    {
     "output_type": "execute_result",
     "data": {
      "text/plain": [
       "[['black', None, None, None, None],\n",
       " [None, None, None, None, None],\n",
       " [None, None, None, None, None],\n",
       " [None, None, None, None, None],\n",
       " [None, None, None, None, None]]"
      ]
     },
     "metadata": {},
     "execution_count": 45
    }
   ],
   "metadata": {}
  },
  {
   "cell_type": "code",
   "execution_count": 47,
   "source": [
    "str(b)"
   ],
   "outputs": [
    {
     "output_type": "execute_result",
     "data": {
      "text/plain": [
       "\"[['black', None, None, None, None], [None, None, None, None, None], [None, None, None, None, None], [None, None, None, None, None], [None, None, None, None, None]]\""
      ]
     },
     "metadata": {},
     "execution_count": 47
    }
   ],
   "metadata": {}
  },
  {
   "cell_type": "code",
   "execution_count": 52,
   "source": [
    "df[df.board.astype(str) == str(b)]"
   ],
   "outputs": [
    {
     "output_type": "execute_result",
     "data": {
      "text/html": [
       "<div>\n",
       "<style scoped>\n",
       "    .dataframe tbody tr th:only-of-type {\n",
       "        vertical-align: middle;\n",
       "    }\n",
       "\n",
       "    .dataframe tbody tr th {\n",
       "        vertical-align: top;\n",
       "    }\n",
       "\n",
       "    .dataframe thead th {\n",
       "        text-align: right;\n",
       "    }\n",
       "</style>\n",
       "<table border=\"1\" class=\"dataframe\">\n",
       "  <thead>\n",
       "    <tr style=\"text-align: right;\">\n",
       "      <th></th>\n",
       "      <th>id</th>\n",
       "      <th>board</th>\n",
       "      <th>score</th>\n",
       "      <th>mvt</th>\n",
       "      <th>action</th>\n",
       "      <th>depth</th>\n",
       "      <th>width</th>\n",
       "      <th>player</th>\n",
       "      <th>step</th>\n",
       "      <th>winner</th>\n",
       "      <th>parent</th>\n",
       "    </tr>\n",
       "  </thead>\n",
       "  <tbody>\n",
       "    <tr>\n",
       "      <th>1</th>\n",
       "      <td>D1-W0-P0-S0</td>\n",
       "      <td>[[black, None, None, None, None], [None, None,...</td>\n",
       "      <td>(0, 0)</td>\n",
       "      <td>[(0, 1), (0, 2), (0, 3), (0, 4), (1, 0), (1, 1...</td>\n",
       "      <td>(0, 1)</td>\n",
       "      <td>1</td>\n",
       "      <td>0</td>\n",
       "      <td>0</td>\n",
       "      <td>0</td>\n",
       "      <td>-1</td>\n",
       "      <td>D0-W0-P0-S0</td>\n",
       "    </tr>\n",
       "    <tr>\n",
       "      <th>92</th>\n",
       "      <td>D1-W0-P0-S0</td>\n",
       "      <td>[[black, None, None, None, None], [None, None,...</td>\n",
       "      <td>(0, 0)</td>\n",
       "      <td>[(0, 1), (0, 2), (0, 3), (0, 4), (1, 0), (1, 1...</td>\n",
       "      <td>(0, 1)</td>\n",
       "      <td>1</td>\n",
       "      <td>0</td>\n",
       "      <td>0</td>\n",
       "      <td>0</td>\n",
       "      <td>-1</td>\n",
       "      <td>D0-W0-P0-S0</td>\n",
       "    </tr>\n",
       "  </tbody>\n",
       "</table>\n",
       "</div>"
      ],
      "text/plain": [
       "             id                                              board   score  \\\n",
       "1   D1-W0-P0-S0  [[black, None, None, None, None], [None, None,...  (0, 0)   \n",
       "92  D1-W0-P0-S0  [[black, None, None, None, None], [None, None,...  (0, 0)   \n",
       "\n",
       "                                                  mvt  action depth width  \\\n",
       "1   [(0, 1), (0, 2), (0, 3), (0, 4), (1, 0), (1, 1...  (0, 1)     1     0   \n",
       "92  [(0, 1), (0, 2), (0, 3), (0, 4), (1, 0), (1, 1...  (0, 1)     1     0   \n",
       "\n",
       "   player step winner       parent  \n",
       "1       0    0     -1  D0-W0-P0-S0  \n",
       "92      0    0     -1  D0-W0-P0-S0  "
      ]
     },
     "metadata": {},
     "execution_count": 52
    }
   ],
   "metadata": {}
  },
  {
   "cell_type": "code",
   "execution_count": 54,
   "source": [
    "a = df.action[50]\r\n",
    "a"
   ],
   "outputs": [
    {
     "output_type": "execute_result",
     "data": {
      "text/plain": [
       "(0, 2, 1, 2)"
      ]
     },
     "metadata": {},
     "execution_count": 54
    }
   ],
   "metadata": {}
  },
  {
   "cell_type": "code",
   "execution_count": 55,
   "source": [
    "df.action == a"
   ],
   "outputs": [
    {
     "output_type": "execute_result",
     "data": {
      "text/plain": [
       "0      False\n",
       "1      False\n",
       "2      False\n",
       "3      False\n",
       "4      False\n",
       "       ...  \n",
       "169     True\n",
       "170    False\n",
       "171    False\n",
       "172    False\n",
       "173     True\n",
       "Name: action, Length: 174, dtype: bool"
      ]
     },
     "metadata": {},
     "execution_count": 55
    }
   ],
   "metadata": {}
  },
  {
   "cell_type": "code",
   "execution_count": null,
   "source": [],
   "outputs": [],
   "metadata": {}
  },
  {
   "cell_type": "code",
   "execution_count": null,
   "source": [],
   "outputs": [],
   "metadata": {}
  },
  {
   "cell_type": "code",
   "execution_count": null,
   "source": [],
   "outputs": [],
   "metadata": {}
  }
 ],
 "metadata": {
  "interpreter": {
   "hash": "8e51ea6e66708a53028f407f7f324efdff684fd8652dba57a60909259a53d71d"
  },
  "kernelspec": {
   "name": "python3",
   "display_name": "Python 3.8.8 64-bit"
  },
  "language_info": {
   "codemirror_mode": {
    "name": "ipython",
    "version": 3
   },
   "file_extension": ".py",
   "mimetype": "text/x-python",
   "name": "python",
   "nbconvert_exporter": "python",
   "pygments_lexer": "ipython3",
   "version": "3.8.8"
  }
 },
 "nbformat": 4,
 "nbformat_minor": 5
}