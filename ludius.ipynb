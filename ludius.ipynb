{
 "cells": [
  {
   "cell_type": "code",
   "execution_count": 2,
   "source": [
    "import numpy as np\r\n",
    "import pandas as pd"
   ],
   "outputs": [],
   "metadata": {}
  },
  {
   "cell_type": "code",
   "execution_count": 3,
   "source": [
    "#df.to_hdf('data.h5', key='df', mode='w')"
   ],
   "outputs": [],
   "metadata": {}
  },
  {
   "cell_type": "code",
   "execution_count": 4,
   "source": [
    "df = pd.read_hdf('data/data.h5')\r\n",
    "config = pd.read_hdf('data/config.h5')"
   ],
   "outputs": [],
   "metadata": {}
  },
  {
   "cell_type": "code",
   "execution_count": 5,
   "source": [
    "df.head()"
   ],
   "outputs": [
    {
     "output_type": "execute_result",
     "data": {
      "text/html": [
       "<div>\n",
       "<style scoped>\n",
       "    .dataframe tbody tr th:only-of-type {\n",
       "        vertical-align: middle;\n",
       "    }\n",
       "\n",
       "    .dataframe tbody tr th {\n",
       "        vertical-align: top;\n",
       "    }\n",
       "\n",
       "    .dataframe thead th {\n",
       "        text-align: right;\n",
       "    }\n",
       "</style>\n",
       "<table border=\"1\" class=\"dataframe\">\n",
       "  <thead>\n",
       "    <tr style=\"text-align: right;\">\n",
       "      <th></th>\n",
       "      <th>id</th>\n",
       "      <th>board</th>\n",
       "      <th>score</th>\n",
       "      <th>mvt</th>\n",
       "      <th>action</th>\n",
       "      <th>depth</th>\n",
       "      <th>width</th>\n",
       "      <th>player</th>\n",
       "      <th>step</th>\n",
       "      <th>winner</th>\n",
       "      <th>parent</th>\n",
       "    </tr>\n",
       "  </thead>\n",
       "  <tbody>\n",
       "    <tr>\n",
       "      <th>0</th>\n",
       "      <td>D0-W0-P0-S0</td>\n",
       "      <td>[[None, None, None, None, None], [None, None, ...</td>\n",
       "      <td>(0, 0)</td>\n",
       "      <td>[(0, 0), (0, 1), (0, 2), (0, 3), (0, 4), (1, 0...</td>\n",
       "      <td>(0, 0)</td>\n",
       "      <td>0</td>\n",
       "      <td>0</td>\n",
       "      <td>0</td>\n",
       "      <td>0</td>\n",
       "      <td>-1</td>\n",
       "      <td>None</td>\n",
       "    </tr>\n",
       "    <tr>\n",
       "      <th>1</th>\n",
       "      <td>D1-W0-P0-S0</td>\n",
       "      <td>[[black, None, None, None, None], [None, None,...</td>\n",
       "      <td>(0, 0)</td>\n",
       "      <td>[(0, 1), (0, 2), (0, 3), (0, 4), (1, 0), (1, 1...</td>\n",
       "      <td>(0, 1)</td>\n",
       "      <td>1</td>\n",
       "      <td>0</td>\n",
       "      <td>0</td>\n",
       "      <td>0</td>\n",
       "      <td>-1</td>\n",
       "      <td>D0-W0-P0-S0</td>\n",
       "    </tr>\n",
       "    <tr>\n",
       "      <th>2</th>\n",
       "      <td>D2-W0-P1-S0</td>\n",
       "      <td>[[black, black, None, None, None], [None, None...</td>\n",
       "      <td>(0, 0)</td>\n",
       "      <td>[(0, 2), (0, 3), (0, 4), (1, 0), (1, 1), (1, 2...</td>\n",
       "      <td>(0, 2)</td>\n",
       "      <td>2</td>\n",
       "      <td>0</td>\n",
       "      <td>1</td>\n",
       "      <td>0</td>\n",
       "      <td>-1</td>\n",
       "      <td>D1-W0-P0-S0</td>\n",
       "    </tr>\n",
       "    <tr>\n",
       "      <th>3</th>\n",
       "      <td>D3-W0-P1-S0</td>\n",
       "      <td>[[black, black, white, None, None], [None, Non...</td>\n",
       "      <td>(0, 0)</td>\n",
       "      <td>[(0, 3), (0, 4), (1, 0), (1, 1), (1, 2), (1, 3...</td>\n",
       "      <td>(0, 3)</td>\n",
       "      <td>3</td>\n",
       "      <td>0</td>\n",
       "      <td>1</td>\n",
       "      <td>0</td>\n",
       "      <td>-1</td>\n",
       "      <td>D2-W0-P1-S0</td>\n",
       "    </tr>\n",
       "    <tr>\n",
       "      <th>4</th>\n",
       "      <td>D4-W0-P0-S0</td>\n",
       "      <td>[[black, black, white, white, None], [None, No...</td>\n",
       "      <td>(0, 0)</td>\n",
       "      <td>[(0, 4), (1, 0), (1, 1), (1, 2), (1, 3), (1, 4...</td>\n",
       "      <td>(0, 4)</td>\n",
       "      <td>4</td>\n",
       "      <td>0</td>\n",
       "      <td>0</td>\n",
       "      <td>0</td>\n",
       "      <td>-1</td>\n",
       "      <td>D3-W0-P1-S0</td>\n",
       "    </tr>\n",
       "  </tbody>\n",
       "</table>\n",
       "</div>"
      ],
      "text/plain": [
       "            id                                              board   score  \\\n",
       "0  D0-W0-P0-S0  [[None, None, None, None, None], [None, None, ...  (0, 0)   \n",
       "1  D1-W0-P0-S0  [[black, None, None, None, None], [None, None,...  (0, 0)   \n",
       "2  D2-W0-P1-S0  [[black, black, None, None, None], [None, None...  (0, 0)   \n",
       "3  D3-W0-P1-S0  [[black, black, white, None, None], [None, Non...  (0, 0)   \n",
       "4  D4-W0-P0-S0  [[black, black, white, white, None], [None, No...  (0, 0)   \n",
       "\n",
       "                                                 mvt  action depth width  \\\n",
       "0  [(0, 0), (0, 1), (0, 2), (0, 3), (0, 4), (1, 0...  (0, 0)     0     0   \n",
       "1  [(0, 1), (0, 2), (0, 3), (0, 4), (1, 0), (1, 1...  (0, 1)     1     0   \n",
       "2  [(0, 2), (0, 3), (0, 4), (1, 0), (1, 1), (1, 2...  (0, 2)     2     0   \n",
       "3  [(0, 3), (0, 4), (1, 0), (1, 1), (1, 2), (1, 3...  (0, 3)     3     0   \n",
       "4  [(0, 4), (1, 0), (1, 1), (1, 2), (1, 3), (1, 4...  (0, 4)     4     0   \n",
       "\n",
       "  player step winner       parent  \n",
       "0      0    0     -1         None  \n",
       "1      0    0     -1  D0-W0-P0-S0  \n",
       "2      1    0     -1  D1-W0-P0-S0  \n",
       "3      1    0     -1  D2-W0-P1-S0  \n",
       "4      0    0     -1  D3-W0-P1-S0  "
      ]
     },
     "metadata": {},
     "execution_count": 5
    }
   ],
   "metadata": {}
  },
  {
   "cell_type": "code",
   "execution_count": 6,
   "source": [
    "df.board.shape"
   ],
   "outputs": [
    {
     "output_type": "execute_result",
     "data": {
      "text/plain": [
       "(454,)"
      ]
     },
     "metadata": {},
     "execution_count": 6
    }
   ],
   "metadata": {}
  },
  {
   "cell_type": "code",
   "execution_count": 7,
   "source": [
    "b = df.board[40]\r\n",
    "b"
   ],
   "outputs": [
    {
     "output_type": "execute_result",
     "data": {
      "text/plain": [
       "[['black', 'white', None, None, None],\n",
       " [None, 'black', 'black', 'black', 'black'],\n",
       " ['white', 'white', 'white', 'black', 'black'],\n",
       " ['white', 'white', 'black', 'black', 'white'],\n",
       " ['white', 'black', 'black', 'white', 'white']]"
      ]
     },
     "metadata": {},
     "execution_count": 7
    }
   ],
   "metadata": {}
  },
  {
   "cell_type": "code",
   "execution_count": 18,
   "source": [
    "df[df.winner != -1]"
   ],
   "outputs": [
    {
     "output_type": "execute_result",
     "data": {
      "text/html": [
       "<div>\n",
       "<style scoped>\n",
       "    .dataframe tbody tr th:only-of-type {\n",
       "        vertical-align: middle;\n",
       "    }\n",
       "\n",
       "    .dataframe tbody tr th {\n",
       "        vertical-align: top;\n",
       "    }\n",
       "\n",
       "    .dataframe thead th {\n",
       "        text-align: right;\n",
       "    }\n",
       "</style>\n",
       "<table border=\"1\" class=\"dataframe\">\n",
       "  <thead>\n",
       "    <tr style=\"text-align: right;\">\n",
       "      <th></th>\n",
       "      <th>id</th>\n",
       "      <th>board</th>\n",
       "      <th>score</th>\n",
       "      <th>mvt</th>\n",
       "      <th>action</th>\n",
       "      <th>depth</th>\n",
       "      <th>width</th>\n",
       "      <th>player</th>\n",
       "      <th>step</th>\n",
       "      <th>winner</th>\n",
       "      <th>parent</th>\n",
       "    </tr>\n",
       "  </thead>\n",
       "  <tbody>\n",
       "    <tr>\n",
       "      <th>90</th>\n",
       "      <td>D90-W0-P1-S1</td>\n",
       "      <td>[[None, None, white, None, None], [black, blac...</td>\n",
       "      <td>(2, 2)</td>\n",
       "      <td>[(0, 2, 1, 2), (0, 2, 0, 1), (0, 2, 0, 3), (2,...</td>\n",
       "      <td>(0, 2, 1, 2)</td>\n",
       "      <td>90</td>\n",
       "      <td>0</td>\n",
       "      <td>1</td>\n",
       "      <td>1</td>\n",
       "      <td>2</td>\n",
       "      <td>D89-W0-P0-S1</td>\n",
       "    </tr>\n",
       "    <tr>\n",
       "      <th>181</th>\n",
       "      <td>D90-W1-P1-S1</td>\n",
       "      <td>[[None, black, white, None, None], [None, blac...</td>\n",
       "      <td>(2, 2)</td>\n",
       "      <td>[(0, 2, 1, 2), (0, 2, 0, 3), (2, 0, 1, 0), (2,...</td>\n",
       "      <td>(0, 2, 0, 3)</td>\n",
       "      <td>90</td>\n",
       "      <td>1</td>\n",
       "      <td>1</td>\n",
       "      <td>1</td>\n",
       "      <td>2</td>\n",
       "      <td>D89-W0-P0-S1</td>\n",
       "    </tr>\n",
       "    <tr>\n",
       "      <th>272</th>\n",
       "      <td>D90-W2-P1-S1</td>\n",
       "      <td>[[black, black, white, None, None], [None, Non...</td>\n",
       "      <td>(2, 2)</td>\n",
       "      <td>[(0, 2, 1, 2), (0, 2, 0, 3), (2, 0, 1, 0), (2,...</td>\n",
       "      <td>(2, 0, 1, 0)</td>\n",
       "      <td>90</td>\n",
       "      <td>2</td>\n",
       "      <td>1</td>\n",
       "      <td>1</td>\n",
       "      <td>2</td>\n",
       "      <td>D89-W0-P0-S1</td>\n",
       "    </tr>\n",
       "    <tr>\n",
       "      <th>363</th>\n",
       "      <td>D90-W3-P1-S1</td>\n",
       "      <td>[[black, None, white, None, None], [black, Non...</td>\n",
       "      <td>(2, 2)</td>\n",
       "      <td>[(0, 2, 1, 2), (0, 2, 0, 1), (0, 2, 0, 3), (2,...</td>\n",
       "      <td>(2, 1, 1, 1)</td>\n",
       "      <td>90</td>\n",
       "      <td>3</td>\n",
       "      <td>1</td>\n",
       "      <td>1</td>\n",
       "      <td>2</td>\n",
       "      <td>D89-W0-P0-S1</td>\n",
       "    </tr>\n",
       "  </tbody>\n",
       "</table>\n",
       "</div>"
      ],
      "text/plain": [
       "               id                                              board   score  \\\n",
       "90   D90-W0-P1-S1  [[None, None, white, None, None], [black, blac...  (2, 2)   \n",
       "181  D90-W1-P1-S1  [[None, black, white, None, None], [None, blac...  (2, 2)   \n",
       "272  D90-W2-P1-S1  [[black, black, white, None, None], [None, Non...  (2, 2)   \n",
       "363  D90-W3-P1-S1  [[black, None, white, None, None], [black, Non...  (2, 2)   \n",
       "\n",
       "                                                   mvt        action depth  \\\n",
       "90   [(0, 2, 1, 2), (0, 2, 0, 1), (0, 2, 0, 3), (2,...  (0, 2, 1, 2)    90   \n",
       "181  [(0, 2, 1, 2), (0, 2, 0, 3), (2, 0, 1, 0), (2,...  (0, 2, 0, 3)    90   \n",
       "272  [(0, 2, 1, 2), (0, 2, 0, 3), (2, 0, 1, 0), (2,...  (2, 0, 1, 0)    90   \n",
       "363  [(0, 2, 1, 2), (0, 2, 0, 1), (0, 2, 0, 3), (2,...  (2, 1, 1, 1)    90   \n",
       "\n",
       "    width player step winner        parent  \n",
       "90      0      1    1      2  D89-W0-P0-S1  \n",
       "181     1      1    1      2  D89-W0-P0-S1  \n",
       "272     2      1    1      2  D89-W0-P0-S1  \n",
       "363     3      1    1      2  D89-W0-P0-S1  "
      ]
     },
     "metadata": {},
     "execution_count": 18
    }
   ],
   "metadata": {}
  },
  {
   "cell_type": "code",
   "execution_count": 9,
   "source": [
    "df[df.board.astype(str) == str(b)]"
   ],
   "outputs": [
    {
     "output_type": "execute_result",
     "data": {
      "text/html": [
       "<div>\n",
       "<style scoped>\n",
       "    .dataframe tbody tr th:only-of-type {\n",
       "        vertical-align: middle;\n",
       "    }\n",
       "\n",
       "    .dataframe tbody tr th {\n",
       "        vertical-align: top;\n",
       "    }\n",
       "\n",
       "    .dataframe thead th {\n",
       "        text-align: right;\n",
       "    }\n",
       "</style>\n",
       "<table border=\"1\" class=\"dataframe\">\n",
       "  <thead>\n",
       "    <tr style=\"text-align: right;\">\n",
       "      <th></th>\n",
       "      <th>id</th>\n",
       "      <th>board</th>\n",
       "      <th>score</th>\n",
       "      <th>mvt</th>\n",
       "      <th>action</th>\n",
       "      <th>depth</th>\n",
       "      <th>width</th>\n",
       "      <th>player</th>\n",
       "      <th>step</th>\n",
       "      <th>winner</th>\n",
       "      <th>parent</th>\n",
       "    </tr>\n",
       "  </thead>\n",
       "  <tbody>\n",
       "    <tr>\n",
       "      <th>40</th>\n",
       "      <td>D40-W0-P1-S1</td>\n",
       "      <td>[[black, white, None, None, None], [None, blac...</td>\n",
       "      <td>(1, 2)</td>\n",
       "      <td>[(0, 1, 0, 2), (2, 0, 1, 0)]</td>\n",
       "      <td>(0, 1, 0, 2)</td>\n",
       "      <td>40</td>\n",
       "      <td>0</td>\n",
       "      <td>1</td>\n",
       "      <td>1</td>\n",
       "      <td>-1</td>\n",
       "      <td>D39-W0-P0-S1</td>\n",
       "    </tr>\n",
       "    <tr>\n",
       "      <th>131</th>\n",
       "      <td>D40-W0-P1-S1</td>\n",
       "      <td>[[black, white, None, None, None], [None, blac...</td>\n",
       "      <td>(1, 2)</td>\n",
       "      <td>[(0, 1, 0, 2), (2, 0, 1, 0)]</td>\n",
       "      <td>(0, 1, 0, 2)</td>\n",
       "      <td>40</td>\n",
       "      <td>0</td>\n",
       "      <td>1</td>\n",
       "      <td>1</td>\n",
       "      <td>-1</td>\n",
       "      <td>D39-W0-P0-S1</td>\n",
       "    </tr>\n",
       "    <tr>\n",
       "      <th>222</th>\n",
       "      <td>D40-W0-P1-S1</td>\n",
       "      <td>[[black, white, None, None, None], [None, blac...</td>\n",
       "      <td>(1, 2)</td>\n",
       "      <td>[(0, 1, 0, 2), (2, 0, 1, 0)]</td>\n",
       "      <td>(0, 1, 0, 2)</td>\n",
       "      <td>40</td>\n",
       "      <td>0</td>\n",
       "      <td>1</td>\n",
       "      <td>1</td>\n",
       "      <td>-1</td>\n",
       "      <td>D39-W0-P0-S1</td>\n",
       "    </tr>\n",
       "    <tr>\n",
       "      <th>313</th>\n",
       "      <td>D40-W0-P1-S1</td>\n",
       "      <td>[[black, white, None, None, None], [None, blac...</td>\n",
       "      <td>(1, 2)</td>\n",
       "      <td>[(0, 1, 0, 2), (2, 0, 1, 0)]</td>\n",
       "      <td>(0, 1, 0, 2)</td>\n",
       "      <td>40</td>\n",
       "      <td>0</td>\n",
       "      <td>1</td>\n",
       "      <td>1</td>\n",
       "      <td>-1</td>\n",
       "      <td>D39-W0-P0-S1</td>\n",
       "    </tr>\n",
       "    <tr>\n",
       "      <th>404</th>\n",
       "      <td>D40-W0-P1-S1</td>\n",
       "      <td>[[black, white, None, None, None], [None, blac...</td>\n",
       "      <td>(1, 2)</td>\n",
       "      <td>[(0, 1, 0, 2), (2, 0, 1, 0)]</td>\n",
       "      <td>(0, 1, 0, 2)</td>\n",
       "      <td>40</td>\n",
       "      <td>0</td>\n",
       "      <td>1</td>\n",
       "      <td>1</td>\n",
       "      <td>-1</td>\n",
       "      <td>D39-W0-P0-S1</td>\n",
       "    </tr>\n",
       "  </tbody>\n",
       "</table>\n",
       "</div>"
      ],
      "text/plain": [
       "               id                                              board   score  \\\n",
       "40   D40-W0-P1-S1  [[black, white, None, None, None], [None, blac...  (1, 2)   \n",
       "131  D40-W0-P1-S1  [[black, white, None, None, None], [None, blac...  (1, 2)   \n",
       "222  D40-W0-P1-S1  [[black, white, None, None, None], [None, blac...  (1, 2)   \n",
       "313  D40-W0-P1-S1  [[black, white, None, None, None], [None, blac...  (1, 2)   \n",
       "404  D40-W0-P1-S1  [[black, white, None, None, None], [None, blac...  (1, 2)   \n",
       "\n",
       "                              mvt        action depth width player step  \\\n",
       "40   [(0, 1, 0, 2), (2, 0, 1, 0)]  (0, 1, 0, 2)    40     0      1    1   \n",
       "131  [(0, 1, 0, 2), (2, 0, 1, 0)]  (0, 1, 0, 2)    40     0      1    1   \n",
       "222  [(0, 1, 0, 2), (2, 0, 1, 0)]  (0, 1, 0, 2)    40     0      1    1   \n",
       "313  [(0, 1, 0, 2), (2, 0, 1, 0)]  (0, 1, 0, 2)    40     0      1    1   \n",
       "404  [(0, 1, 0, 2), (2, 0, 1, 0)]  (0, 1, 0, 2)    40     0      1    1   \n",
       "\n",
       "    winner        parent  \n",
       "40      -1  D39-W0-P0-S1  \n",
       "131     -1  D39-W0-P0-S1  \n",
       "222     -1  D39-W0-P0-S1  \n",
       "313     -1  D39-W0-P0-S1  \n",
       "404     -1  D39-W0-P0-S1  "
      ]
     },
     "metadata": {},
     "execution_count": 9
    }
   ],
   "metadata": {}
  },
  {
   "cell_type": "code",
   "execution_count": 10,
   "source": [
    "config[config.depth == 89].index"
   ],
   "outputs": [
    {
     "output_type": "execute_result",
     "data": {
      "text/plain": [
       "Int64Index([1], dtype='int64')"
      ]
     },
     "metadata": {},
     "execution_count": 10
    }
   ],
   "metadata": {}
  },
  {
   "cell_type": "code",
   "execution_count": 11,
   "source": [
    "pd.Index(config.depth == 89)"
   ],
   "outputs": [
    {
     "output_type": "execute_result",
     "data": {
      "text/plain": [
       "Index([False, True], dtype='object', name='depth')"
      ]
     },
     "metadata": {},
     "execution_count": 11
    }
   ],
   "metadata": {}
  },
  {
   "cell_type": "code",
   "execution_count": 12,
   "source": [
    "config[config.depth == (config.depth[0] - 2)].shape[0]"
   ],
   "outputs": [
    {
     "output_type": "execute_result",
     "data": {
      "text/plain": [
       "0"
      ]
     },
     "metadata": {},
     "execution_count": 12
    }
   ],
   "metadata": {}
  },
  {
   "cell_type": "code",
   "execution_count": 13,
   "source": [
    "config.loc[config.depth == 89, 'width'] += 1"
   ],
   "outputs": [],
   "metadata": {}
  },
  {
   "cell_type": "code",
   "execution_count": 14,
   "source": [
    "config"
   ],
   "outputs": [
    {
     "output_type": "execute_result",
     "data": {
      "text/html": [
       "<div>\n",
       "<style scoped>\n",
       "    .dataframe tbody tr th:only-of-type {\n",
       "        vertical-align: middle;\n",
       "    }\n",
       "\n",
       "    .dataframe tbody tr th {\n",
       "        vertical-align: top;\n",
       "    }\n",
       "\n",
       "    .dataframe thead th {\n",
       "        text-align: right;\n",
       "    }\n",
       "</style>\n",
       "<table border=\"1\" class=\"dataframe\">\n",
       "  <thead>\n",
       "    <tr style=\"text-align: right;\">\n",
       "      <th></th>\n",
       "      <th>depth</th>\n",
       "      <th>width</th>\n",
       "    </tr>\n",
       "  </thead>\n",
       "  <tbody>\n",
       "    <tr>\n",
       "      <th>0</th>\n",
       "      <td>90</td>\n",
       "      <td>4</td>\n",
       "    </tr>\n",
       "    <tr>\n",
       "      <th>1</th>\n",
       "      <td>89</td>\n",
       "      <td>5</td>\n",
       "    </tr>\n",
       "  </tbody>\n",
       "</table>\n",
       "</div>"
      ],
      "text/plain": [
       "   depth  width\n",
       "0     90      4\n",
       "1     89      5"
      ]
     },
     "metadata": {},
     "execution_count": 14
    }
   ],
   "metadata": {}
  },
  {
   "cell_type": "code",
   "execution_count": 15,
   "source": [
    "config[config.depth == 89].shape[0]"
   ],
   "outputs": [
    {
     "output_type": "execute_result",
     "data": {
      "text/plain": [
       "1"
      ]
     },
     "metadata": {},
     "execution_count": 15
    }
   ],
   "metadata": {}
  },
  {
   "cell_type": "code",
   "execution_count": 17,
   "source": [
    "len(df.loc[(df.shape[0] - 1), 'mvt'])"
   ],
   "outputs": [
    {
     "output_type": "execute_result",
     "data": {
      "text/plain": [
       "8"
      ]
     },
     "metadata": {},
     "execution_count": 17
    }
   ],
   "metadata": {}
  },
  {
   "cell_type": "code",
   "execution_count": null,
   "source": [],
   "outputs": [],
   "metadata": {}
  },
  {
   "cell_type": "code",
   "execution_count": null,
   "source": [],
   "outputs": [],
   "metadata": {}
  },
  {
   "cell_type": "code",
   "execution_count": null,
   "source": [],
   "outputs": [],
   "metadata": {}
  },
  {
   "cell_type": "code",
   "execution_count": null,
   "source": [],
   "outputs": [],
   "metadata": {}
  },
  {
   "cell_type": "code",
   "execution_count": null,
   "source": [],
   "outputs": [],
   "metadata": {}
  },
  {
   "cell_type": "code",
   "execution_count": null,
   "source": [],
   "outputs": [],
   "metadata": {}
  }
 ],
 "metadata": {
  "interpreter": {
   "hash": "8e51ea6e66708a53028f407f7f324efdff684fd8652dba57a60909259a53d71d"
  },
  "kernelspec": {
   "name": "python3",
   "display_name": "Python 3.8.8 64-bit ('base': conda)"
  },
  "language_info": {
   "codemirror_mode": {
    "name": "ipython",
    "version": 3
   },
   "file_extension": ".py",
   "mimetype": "text/x-python",
   "name": "python",
   "nbconvert_exporter": "python",
   "pygments_lexer": "ipython3",
   "version": "3.8.8"
  }
 },
 "nbformat": 4,
 "nbformat_minor": 5
}